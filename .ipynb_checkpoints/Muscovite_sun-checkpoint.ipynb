{
 "cells": [
  {
   "cell_type": "markdown",
   "metadata": {},
   "source": [
    "# Sunrise & Sunset Moscow Map"
   ]
  },
  {
   "cell_type": "markdown",
   "metadata": {},
   "source": [
    "## Preparations"
   ]
  },
  {
   "cell_type": "markdown",
   "metadata": {},
   "source": [
    "### Importing packages and settings"
   ]
  },
  {
   "cell_type": "code",
   "execution_count": null,
   "metadata": {},
   "outputs": [],
   "source": [
    "import networkx as nx\n",
    "import matplotlib.cm as cm\n",
    "import matplotlib.colors as colors\n",
    "from matplotlib.lines import Line2D\n",
    "import matplotlib.pyplot as plt\n",
    "import math\n",
    "import numpy as np\n",
    "import pickle\n",
    "\n",
    "import astral\n",
    "from astral.sun import sun\n",
    "from astral.sun import azimuth\n",
    "from datetime import datetime\n",
    "import pytz\n",
    "\n",
    "import osmnx as ox\n",
    "import requests\n",
    "from colormap import rgb2hex, hex2rgb\n",
    "import calendar"
   ]
  },
  {
   "cell_type": "markdown",
   "metadata": {},
   "source": [
    "Following packages were used to make the map:\n",
    "- [osmnx](https://github.com/gboeing/osmnx) to retrieve and operate OpenStreetMap data;\n",
    "- [requests](https://pypi.org/project/requests/2.7.0/) to work with HTTP requests;\n",
    "- [colormap](https://pypi.org/project/colormap/) to convert colors from HEX to RGB and vice versa;\n",
    "- [calendar](https://docs.python.org/3/library/calendar.html#module-calendar) to work with month names;\n",
    "- [astral](https://astral.readthedocs.io/en/latest/package.html) to calculate solar data."
   ]
  },
  {
   "cell_type": "markdown",
   "metadata": {},
   "source": [
    "### Retrieving Moscow street network"
   ]
  },
  {
   "cell_type": "markdown",
   "metadata": {},
   "source": [
    "OpenStreetMap data is downloaded using the *OSMnx* package. `graph_from_point` retrieves graph-type map data based on the center point; `add_edge_bearings` provides us with data on streets' bearings (azimuths); `network_type='drive'` ensures that only relatively large roads are downloaded (otherwise the map would be too bulky)."
   ]
  },
  {
   "cell_type": "code",
   "execution_count": null,
   "metadata": {},
   "outputs": [],
   "source": [
    "lat = 55.7518\n",
    "long = 37.6224"
   ]
  },
  {
   "cell_type": "code",
   "execution_count": null,
   "metadata": {
    "scrolled": false
   },
   "outputs": [],
   "source": [
    "moscow_map = ox.geo_utils.add_edge_bearings(\n",
    "    ox.graph_from_point((lat, long), distance=2600, network_type='drive')\n",
    ")"
   ]
  },
  {
   "cell_type": "markdown",
   "metadata": {},
   "source": [
    "**Note:** in `.py` scripts, the map is saved as Python 3.7 `pickle` object in order to establish stable offline access."
   ]
  },
  {
   "cell_type": "code",
   "execution_count": null,
   "metadata": {},
   "outputs": [],
   "source": [
    "pickle.dump(moscow_map, open('moscow_map.obj', 'wb'))"
   ]
  },
  {
   "cell_type": "markdown",
   "metadata": {},
   "source": [
    "### Investigating the data"
   ]
  },
  {
   "cell_type": "markdown",
   "metadata": {},
   "source": [
    "We loaded Moscow city center street network which is then stored as `M`. As seen from the code output below, our map is a `MultiDiGraph` object from the *NetworkX* package."
   ]
  },
  {
   "cell_type": "code",
   "execution_count": null,
   "metadata": {},
   "outputs": [],
   "source": [
    "M = pickle.load(open('moscow_map.obj', 'rb'))\n",
    "\n",
    "ox.plot_graph(M)\n",
    "print('Object class:', M.__class__.__name__)"
   ]
  },
  {
   "cell_type": "markdown",
   "metadata": {},
   "source": [
    "This graph (or map) consists of *nodes* and *edges*, where nodes represent intersections and edges represent streets. Information about each node is stored in dictionaries and includes its coordinates and unique *osmID*. For example, `438099970` node can be extracted this way:"
   ]
  },
  {
   "cell_type": "code",
   "execution_count": null,
   "metadata": {},
   "outputs": [],
   "source": [
    "print(M.nodes(data = True)[438099970])"
   ]
  },
  {
   "cell_type": "markdown",
   "metadata": {},
   "source": [
    "### Supplementing the data"
   ]
  },
  {
   "cell_type": "markdown",
   "metadata": {},
   "source": [
    "Before proceeding, we first need to supply our graph with data on streets' elevation in case we need it later.\n",
    "*OSMnx* [provides](https://osmnx.readthedocs.io/en/stable/osmnx.html#module-osmnx.elevation) a simple mechanism for getting nodes' altitude using Google's Elevation API, but we will retrieve it from another source — the [Elevation-API](https://elevation-api.io).\n",
    "\n",
    "For each node, its \"latitute-longitude\" pair is concantenated to the API's request. Requested output is then added to the dictionary by the `elevation` key:"
   ]
  },
  {
   "cell_type": "code",
   "execution_count": null,
   "metadata": {},
   "outputs": [],
   "source": [
    "# Might be long to run!\n",
    "\n",
    "API_key = dpdc1bp92p4d1VgcMg-uvifid514-t\n",
    "\n",
    "for node in M.nodes():\n",
    "    y = M.nodes[node]['y'] # latitude\n",
    "    x = M.nodes[node]['x'] # longitude\n",
    "    response = requests.get('https://elevation-api.io/api/elevation?points=(' + \n",
    "                           str(y) + ',' + str(x) + ')&key=' + API_key)\n",
    "    if response:\n",
    "        elevation = response.json()['elevations'][0]['elevation']\n",
    "        M.nodes[node]['elevation'] = elevation\n",
    "    else:\n",
    "        M.nodes[node]['elevation'] = -9999\n",
    "        print('No response!')"
   ]
  },
  {
   "cell_type": "markdown",
   "metadata": {},
   "source": [
    "Now *OSMnx* can automatically calculate elevation grades of the edges (streets):"
   ]
  },
  {
   "cell_type": "code",
   "execution_count": null,
   "metadata": {},
   "outputs": [],
   "source": [
    "M = ox.elevation.add_edge_grades(M, add_absolute=True)"
   ]
  },
  {
   "cell_type": "markdown",
   "metadata": {},
   "source": [
    "We will save the new graph as a `pickle` object:"
   ]
  },
  {
   "cell_type": "code",
   "execution_count": null,
   "metadata": {},
   "outputs": [],
   "source": [
    "pickle.dump(M, open('moscow_map_el.obj', 'wb'))"
   ]
  },
  {
   "cell_type": "markdown",
   "metadata": {},
   "source": [
    "___"
   ]
  },
  {
   "cell_type": "markdown",
   "metadata": {},
   "source": [
    "## Map prerequisites"
   ]
  },
  {
   "cell_type": "markdown",
   "metadata": {},
   "source": [
    "Now we are closer to the colored map itself. Data obtained in *Preparations* is loaded as follows:"
   ]
  },
  {
   "cell_type": "code",
   "execution_count": null,
   "metadata": {},
   "outputs": [],
   "source": [
    "M = pickle.load(open('moscow_map_el.obj', 'rb'))"
   ]
  },
  {
   "cell_type": "markdown",
   "metadata": {},
   "source": [
    "### Setting the month of observation"
   ]
  },
  {
   "cell_type": "markdown",
   "metadata": {},
   "source": [
    "We need to know the sunrise and sunset azimuths (`rise_angle` and `set_angle` respectively) and the time of their start (`rise_time` and `set_time`) depending on the month of observation. \n",
    "\n",
    "Monthly data is retrieved using [`astral`](https://astral.readthedocs.io) package observing on 15th day of the month."
   ]
  },
  {
   "cell_type": "code",
   "execution_count": null,
   "metadata": {},
   "outputs": [],
   "source": [
    "month = 12"
   ]
  },
  {
   "cell_type": "code",
   "execution_count": null,
   "metadata": {},
   "outputs": [],
   "source": [
    "l = astral.LocationInfo() # set location properties\n",
    "l.name = 'Moscow'            # city name\n",
    "l.region = 'Russia'          # region\n",
    "l.timezone = 'Europe/Moscow' # timezone (pytz style)\n",
    "l.latitude = lat             # latitude\n",
    "l.longitude = long           # longitude\n",
    "\n",
    "date_str = str(datetime.now().year) + '-' + str(month) + '-' + '15' # set date (based on month)\n",
    "date_obj = datetime.strptime(date_str, '%Y-%m-%d') # convert to datetime object\n",
    "s = sun(l.observer, date=date_obj) # get dictionary with solar time data"
   ]
  },
  {
   "cell_type": "markdown",
   "metadata": {},
   "source": [
    "Now we define `rise_time` and `set_time` according to an appropriate timezone (UTC+3). We also create a `month_name` variable (in case we need it in map legend)."
   ]
  },
  {
   "cell_type": "code",
   "execution_count": null,
   "metadata": {},
   "outputs": [],
   "source": [
    "rise_time_obj = s['sunrise'].astimezone(tz = pytz.timezone(l.timezone))\n",
    "set_time_obj = s['sunset'].astimezone(tz = pytz.timezone(l.timezone))\n",
    "\n",
    "rise_time = datetime.strftime(rise_time_obj, '%H:%M:%S')\n",
    "set_time = datetime.strftime(set_time_obj, '%H:%M:%S')\n",
    "\n",
    "month_name = calendar.month_name[month]"
   ]
  },
  {
   "cell_type": "markdown",
   "metadata": {},
   "source": [
    "Finally, `rise_angle` and `set_angle` are defined as follows:"
   ]
  },
  {
   "cell_type": "code",
   "execution_count": null,
   "metadata": {},
   "outputs": [],
   "source": [
    "rise_angle = azimuth(l.observer, rise_time_obj)\n",
    "set_angle = azimuth(l.observer, set_time_obj)"
   ]
  },
  {
   "cell_type": "markdown",
   "metadata": {},
   "source": [
    "### Unpacking and processing the data"
   ]
  },
  {
   "cell_type": "markdown",
   "metadata": {},
   "source": [
    "Edges are stored in massive object called by `M.edges(data=True)` that contains:\n",
    "- IDs of two nodes that define an edge (`u` and `v`);\n",
    "- Edges' properties stored in dictionaries (`data`).\n",
    "The following code unpacks it and transforms `bearing` property into a float:"
   ]
  },
  {
   "cell_type": "code",
   "execution_count": null,
   "metadata": {},
   "outputs": [],
   "source": [
    "u = []\n",
    "v = []\n",
    "data = []\n",
    "for uu, vv, ddata in M.edges(data=True):\n",
    "    u.append(uu)\n",
    "    v.append(vv)\n",
    "    data.append(ddata)\n",
    "\n",
    "for item in data:\n",
    "    if 'bearing' in item.keys():\n",
    "        item['bearing'] = float(item['bearing'])"
   ]
  },
  {
   "cell_type": "code",
   "execution_count": null,
   "metadata": {},
   "outputs": [],
   "source": [
    "u = []\n",
    "v = []\n",
    "key = []\n",
    "data = []\n",
    "for uu, vv, kkey, ddata in M.edges(keys=True, data=True):\n",
    "    u.append(uu)\n",
    "    v.append(vv)\n",
    "    key.append(kkey)\n",
    "    data.append(ddata)\n",
    "\n",
    "for item in data:\n",
    "    if 'bearing' in item.keys():\n",
    "        item['bearing'] = float(item['bearing'])"
   ]
  },
  {
   "cell_type": "markdown",
   "metadata": {},
   "source": [
    "Now we have two vectors of edge-forming nodes (`u` and `v`) and the vector of dictionaries (`data`)."
   ]
  },
  {
   "cell_type": "markdown",
   "metadata": {},
   "source": [
    "### Defining colors"
   ]
  },
  {
   "cell_type": "markdown",
   "metadata": {},
   "source": [
    "Let's start with two HEX colors denoting whether a street is appropriate for sunrise or sunset observation. I chose <span style=\"color:#FFFE03; background-color:#181A34\">#FFFE03</span> as the sunrise color and <span style=\"color:#E70074; background-color:#181A34\">#E70074</span> as the sunset color. `bg_color` represents the background color of the map."
   ]
  },
  {
   "cell_type": "code",
   "execution_count": null,
   "metadata": {},
   "outputs": [],
   "source": [
    "rise_color = '#FFFE03' # yellow\n",
    "set_color = '#E70074'  # magenta\n",
    "no_color = '#3A3F80'   # dark-ish blue\n",
    "bg_color = '#181A34'   # dark blue"
   ]
  },
  {
   "cell_type": "markdown",
   "metadata": {},
   "source": [
    "### Setting street colors"
   ]
  },
  {
   "cell_type": "markdown",
   "metadata": {},
   "source": [
    "`colorHEX` list contains edge colors which depend on the bearings. We also include street length restriction (`item['length'] > 10`) in order to omit insignificant street network units."
   ]
  },
  {
   "cell_type": "code",
   "execution_count": null,
   "metadata": {},
   "outputs": [],
   "source": [
    "colorsHEX = []\n",
    "\n",
    "for item in data:\n",
    "    if item['length'] > 10:\n",
    "        if abs(item['bearing'] - rise_angle) <= 10 or abs(item['bearing'] - rise_angle - 180) <= 10:\n",
    "            colorHEX = rise_color\n",
    "        elif abs(item['bearing'] - set_angle) <= 10 or abs(item['bearing'] - set_angle + 180) <= 10:\n",
    "            colorHEX = set_color\n",
    "        else:\n",
    "            colorHEX = no_color\n",
    "    else:\n",
    "        colorHEX = bg_color\n",
    "    colorsHEX.append(colorHEX)"
   ]
  },
  {
   "cell_type": "markdown",
   "metadata": {},
   "source": [
    "### Setting street width"
   ]
  },
  {
   "cell_type": "markdown",
   "metadata": {},
   "source": [
    "Each edge will be printed with a certain width according to the street type. To evaluate street types present in our data, we build a list of dictionary values and print out a set of unique ones:"
   ]
  },
  {
   "cell_type": "code",
   "execution_count": null,
   "metadata": {},
   "outputs": [],
   "source": [
    "types = []\n",
    "\n",
    "for item in data:\n",
    "    if  isinstance(item['highway'], str):\n",
    "        types.append(item['highway'])\n",
    "\n",
    "print('Street types available:')\n",
    "print(*np.unique(np.array(types)), sep = ', ')"
   ]
  },
  {
   "cell_type": "markdown",
   "metadata": {},
   "source": [
    "Thus it is possible to form the `widths` list:"
   ]
  },
  {
   "cell_type": "code",
   "execution_count": null,
   "metadata": {},
   "outputs": [],
   "source": [
    "widths = []\n",
    "\n",
    "for item in data:\n",
    "    if 'primary' or 'primary_link' in item['highway']:\n",
    "        width = 5\n",
    "    elif 'secondary' or 'secondary_link' in item['highway']:\n",
    "        width = 3\n",
    "    elif 'tertiary' or 'tertiary_link' in item['highway']:\n",
    "        width = 2\n",
    "    elif 'residential' or 'living_street' in item['highway']:\n",
    "        width = 1\n",
    "    else:\n",
    "        width = 0\n",
    "    widths.append(width)"
   ]
  },
  {
   "cell_type": "markdown",
   "metadata": {},
   "source": [
    "___"
   ]
  },
  {
   "cell_type": "markdown",
   "metadata": {},
   "source": [
    "## Map compilation"
   ]
  },
  {
   "cell_type": "code",
   "execution_count": null,
   "metadata": {},
   "outputs": [],
   "source": [
    "# Map center\n",
    "\n",
    "latitude = 55.7518\n",
    "longitude = 37.6224\n",
    "\n",
    "# Plotting\n",
    "\n",
    "fig, ax = ox.plot_graph(M, node_size=0, margin = 0.035,\n",
    "                        fig_height=50, fig_width=50, bgcolor = bg_color,\n",
    "                        save = False, edge_color=colorsHEX,\n",
    "                        edge_linewidth=widths, use_geom = True)"
   ]
  },
  {
   "cell_type": "markdown",
   "metadata": {},
   "source": [
    "### Legend"
   ]
  },
  {
   "cell_type": "markdown",
   "metadata": {},
   "source": [
    "Here we add a legend describing edge colors. It is not seen in the output, but appears in `test.svg` and `test.png` files."
   ]
  },
  {
   "cell_type": "code",
   "execution_count": null,
   "metadata": {},
   "outputs": [],
   "source": [
    "markersize = 16\n",
    "fontsize = 50\n",
    "\n",
    "legend_elements = [Line2D([0], [0], marker='_', color=rise_color, label= 'Sunrise watching appropriate',\n",
    "                          markersize=markersize, linewidth=5),\n",
    "                          \n",
    "                  Line2D([0], [0], marker='_', color=set_color, label= 'Sunset watching appropriate',\n",
    "                         markersize=markersize, linewidth=5),\n",
    "                  \n",
    "                  Line2D([0], [0], marker='_', color=no_color, label= 'Inappropriate for sun observation',\n",
    "                         markersize=markersize, linewidth=5)\n",
    "                  ]    \n",
    "                      \n",
    "l = ax.legend(handles=legend_elements, bbox_to_anchor=(0.0, 0.0), frameon=True, ncol=1,\n",
    "              facecolor = '#181A34', framealpha = 0.9,\n",
    "              loc='lower left',  fontsize = fontsize, prop={'family':'monospace', 'size':fontsize})\n",
    "\n",
    "for text in l.get_texts():\n",
    "    text.set_color(\"w\")"
   ]
  },
  {
   "cell_type": "code",
   "execution_count": null,
   "metadata": {},
   "outputs": [],
   "source": [
    "fig.savefig(\"test.svg\", bbox_inches = 'tight', \n",
    "            format = \"svg\", facecolor = fig.get_facecolor(), \n",
    "            transparent = True)"
   ]
  },
  {
   "cell_type": "code",
   "execution_count": null,
   "metadata": {},
   "outputs": [],
   "source": [
    "fig.savefig(\"test.png\", dpi=50, bbox_inches='tight', \n",
    "            format=\"png\", facecolor=fig.get_facecolor(), \n",
    "            transparent=True)"
   ]
  },
  {
   "cell_type": "markdown",
   "metadata": {},
   "source": [
    "___"
   ]
  },
  {
   "cell_type": "markdown",
   "metadata": {},
   "source": [
    "## Further investigation"
   ]
  },
  {
   "cell_type": "markdown",
   "metadata": {},
   "source": [
    "### Plotting edge grades using alpha channel"
   ]
  },
  {
   "cell_type": "markdown",
   "metadata": {},
   "source": [
    "The map above only takes edge *bearings* into account. Now we will examine the possibility of seizing the *elevation* (grades) data for the map plotting purposes. First, let's check how *grades* are distributed (note that we are only interested in absolute values):"
   ]
  },
  {
   "cell_type": "code",
   "execution_count": null,
   "metadata": {},
   "outputs": [],
   "source": [
    "grades = []\n",
    "\n",
    "for item in data:\n",
    "    grades.append(float(item['grade_abs']))\n",
    "\n",
    "grades_nz = [g for g in grades if g != 0]\n",
    "grades_np = np.array(grades_nz)\n",
    "\n",
    "# Plot the distribution:\n",
    "\n",
    "plt.hist(grades_np, \n",
    "         bins=len(grades_np), \n",
    "         color = 'mediumseagreen')\n",
    "plt.title('Edge grades distribution ($>0$)')\n",
    "plt.xlabel('Grades')\n",
    "plt.axvline(x = np.mean(grades_np), \n",
    "            color = 'black', \n",
    "            linestyle = 'dashed', \n",
    "            linewidth = 1)\n",
    "plt.axvline(x = 0.2, \n",
    "            color = 'black', \n",
    "            linestyle = 'dashed', \n",
    "            linewidth = 1)\n",
    "plt.text(0.085, 6, 'mean', rotation=90, fontsize=6)\n",
    "plt.text(0.2016, 6, '$g = 0.2$', rotation=90, fontsize=6)\n",
    "plt.rcParams['figure.dpi']= 150 # dpi of output images\n",
    "plt.show()\n",
    "\n",
    "print('Range of non-zero grades: ({}, {})'.format(min(grades_nz), max(grades_nz)))"
   ]
  },
  {
   "cell_type": "markdown",
   "metadata": {},
   "source": [
    "We might highlight edges which grade exceeds a predefined value (e. g., zero or the mean grade). In order to do so, a new color vector is created: it will consist of RGBA-coded colors, where *A* stands for opacity level (alpha). For better presentation, the color of \"sun observation inappropriate\" streets is now white."
   ]
  },
  {
   "cell_type": "code",
   "execution_count": null,
   "metadata": {},
   "outputs": [],
   "source": [
    "def f_colorsRGBA(boundary):\n",
    "    \n",
    "    colorsRGBA = []\n",
    "\n",
    "    for item in data:\n",
    "\n",
    "        if item['length'] > 10: # familiar bearing condition\n",
    "            if abs(item['bearing'] - rise_angle) <= 10 or abs(item['bearing'] - rise_angle - 180) <= 10:\n",
    "                colorHEX = rise_color\n",
    "            elif abs(item['bearing'] - set_angle) <= 10 or abs(item['bearing'] - set_angle + 180) <= 10:\n",
    "                colorHEX = set_color\n",
    "            else:\n",
    "                colorHEX = '#FFFFFF'\n",
    "        else:\n",
    "            colorHEX = bg_color\n",
    "\n",
    "        if item['grade_abs'] > boundary: # grade condition\n",
    "            a = 1\n",
    "        else:\n",
    "            a = 0.2\n",
    "\n",
    "        colorRGB = hex2rgb(colorHEX, normalise=True)\n",
    "        colorRGBA = colorRGB + (a,)\n",
    "        colorsRGBA.append(colorRGBA)\n",
    "        \n",
    "    return colorsRGBA"
   ]
  },
  {
   "cell_type": "markdown",
   "metadata": {},
   "source": [
    "- All streets with **non-zero grades** are highlighted:"
   ]
  },
  {
   "cell_type": "code",
   "execution_count": null,
   "metadata": {
    "scrolled": false
   },
   "outputs": [],
   "source": [
    "# Boundary grade\n",
    "\n",
    "boundary = 0\n",
    "\n",
    "# Map center\n",
    "\n",
    "latitude = 55.7518\n",
    "longitude = 37.6224\n",
    "\n",
    "# Plotting\n",
    "\n",
    "fig_bz, ax = ox.plot_graph(M, node_size=0, margin = 0.035,\n",
    "                        fig_height=50, fig_width=50, bgcolor = bg_color,\n",
    "                        save = False, edge_color=f_colorsRGBA(boundary),\n",
    "                        edge_linewidth=widths, edge_alpha=None, use_geom = True)"
   ]
  },
  {
   "cell_type": "markdown",
   "metadata": {},
   "source": [
    "- **Grades exceeding the mean value** (≈0.08) are highlighted:"
   ]
  },
  {
   "cell_type": "code",
   "execution_count": null,
   "metadata": {},
   "outputs": [],
   "source": [
    "# Boundary grade\n",
    "\n",
    "boundary = np.mean(grades_np)\n",
    "\n",
    "# Map center\n",
    "\n",
    "latitude = 55.7518\n",
    "longitude = 37.6224\n",
    "\n",
    "# Plotting\n",
    "\n",
    "fig_bm, ax = ox.plot_graph(M, node_size=0, margin = 0.035,\n",
    "                        fig_height=50, fig_width=50, bgcolor = bg_color,\n",
    "                        save = False, edge_color=f_colorsRGBA(boundary),\n",
    "                        edge_linewidth=widths, edge_alpha=None, use_geom = True)"
   ]
  },
  {
   "cell_type": "markdown",
   "metadata": {},
   "source": [
    "Taking the general Moscow knowledge into account, we propose to use 0 (zero) as a boundary grade. Please note that elevation API provides rought estimates of geographical data, therefore, our visual investigation might omit significant areas."
   ]
  },
  {
   "cell_type": "markdown",
   "metadata": {},
   "source": [
    "### Plotting elevation using isochrones"
   ]
  },
  {
   "cell_type": "code",
   "execution_count": null,
   "metadata": {},
   "outputs": [],
   "source": [
    "plt.hist(elevations, \n",
    "         color = 'goldenrod', bins = 20)\n",
    "plt.title('Elevation distribution')\n",
    "plt.xlabel('Elevation')\n",
    "plt.rcParams['figure.dpi']= 150 # dpi of output images\n",
    "plt.show()\n",
    "\n",
    "print('Range of elevation: ({}, {})'.format(min(elevations), max(elevations)))"
   ]
  },
  {
   "cell_type": "code",
   "execution_count": null,
   "metadata": {},
   "outputs": [],
   "source": [
    "from sklearn.preprocessing import minmax_scale\n",
    "\n",
    "elevations = [M.nodes()[node]['elevation'] for node in M.nodes()]\n",
    "elevations_scaled = minmax_scale(elevations, feature_range=(0, 1))"
   ]
  },
  {
   "cell_type": "markdown",
   "metadata": {},
   "source": []
  },
  {
   "cell_type": "code",
   "execution_count": null,
   "metadata": {},
   "outputs": [],
   "source": [
    "# Map center\n",
    "\n",
    "latitude = 55.7518\n",
    "longitude = 37.6224\n",
    "cmap = plt.get_cmap('jet') # setting colormap\n",
    "\n",
    "# Plotting\n",
    "\n",
    "fig, ax = ox.plot_graph(M, node_size=10000, margin = 0.035,\n",
    "                        fig_height=50, fig_width=50, bgcolor = 'white',\n",
    "                        save = False, edge_color='#000000', \n",
    "                        node_color = cmap(elevations_scaled), node_alpha = 0.1,\n",
    "                        edge_linewidth=widths, use_geom = True)"
   ]
  },
  {
   "cell_type": "markdown",
   "metadata": {},
   "source": [
    "___"
   ]
  },
  {
   "cell_type": "code",
   "execution_count": null,
   "metadata": {},
   "outputs": [],
   "source": [
    "rise_color = '#FFFE03' # yellow\n",
    "set_color = '#E70074'  # magenta\n",
    "no_color = '#3A3F80'   # dark-ish blue\n",
    "bg_color = '#181A34'   # dark blue\n",
    "\n",
    "markersize = 32\n",
    "fontsize = 50\n",
    "\n",
    "u = []\n",
    "v = []\n",
    "data = []\n",
    "for uu, vv, ddata in M.edges(data=True):\n",
    "    u.append(uu)\n",
    "    v.append(vv)\n",
    "    data.append(ddata)\n",
    "\n",
    "for item in data:\n",
    "    if 'bearing' in item.keys():\n",
    "        item['bearing'] = float(item['bearing'])\n",
    "\n",
    "for month in range(1, 13):\n",
    "    if month in range(13):\n",
    "        rise_time = monthly_data[month-1]['rise_time']\n",
    "        set_time = monthly_data[month-1]['set_time']\n",
    "        rise_angle = monthly_data[month-1]['rise_angle']\n",
    "        set_angle = monthly_data[month-1]['set_angle']\n",
    "        month = calendar.month_name[monthly_data[month-1]['month_num']]\n",
    "        print(month, ': ', \n",
    "              'sunrise azimuth = ', rise_angle, ', ', \n",
    "              'sunset azimuth = ', set_angle, sep = '')\n",
    "    else:\n",
    "        print('Invalid month number.')\n",
    "        \n",
    "    colorsHEX = []\n",
    "\n",
    "    for item in data:\n",
    "        if item['length'] > 10:\n",
    "            if abs(item['bearing'] - rise_angle) <= 10 or abs(item['bearing'] - rise_angle - 180) <= 10:\n",
    "                colorHEX = rise_color\n",
    "            elif abs(item['bearing'] - set_angle) <= 10 or abs(item['bearing'] - set_angle + 180) <= 10:\n",
    "                colorHEX = set_color\n",
    "            else:\n",
    "                colorHEX = no_color\n",
    "        else:\n",
    "            colorHEX = bg_color\n",
    "        colorsHEX.append(colorHEX)\n",
    "        \n",
    "    widths = []\n",
    "\n",
    "    for item in data:\n",
    "        if 'primary' or 'primary_link' in item['highway']:\n",
    "            width = 5\n",
    "        elif 'secondary' or 'secondary_link' in item['highway']:\n",
    "            width = 3\n",
    "        elif 'tertiary' or 'tertiary_link' in item['highway']:\n",
    "            width = 2\n",
    "        elif 'residential' or 'living_street' in item['highway']:\n",
    "            width = 1\n",
    "        else:\n",
    "            width = 0\n",
    "        widths.append(width)\n",
    "        \n",
    "    # Map center\n",
    "\n",
    "    latitude = 55.7518\n",
    "    longitude = 37.6224\n",
    "\n",
    "    # Plotting\n",
    "\n",
    "    fig, ax = ox.plot_graph(M, node_size=0, margin = 0.035,\n",
    "                        fig_height=50, fig_width=50, bgcolor = None,\n",
    "                        save = False, edge_color=colorsHEX,\n",
    "                        edge_linewidth=widths, use_geom = True, show=False)\n",
    "\n",
    "    legend_elements = [Line2D([0], [0], marker='.', color='black', \n",
    "                          label= 'Month: {}'.format(month_name),\n",
    "                          markersize=markersize, linewidth=0),\n",
    "                      Line2D([0], [0], marker='.', color='black', \n",
    "                          label= 'Sunrise time: {}'.format(rise_time),\n",
    "                          markersize=markersize, linewidth=0),\n",
    "                      Line2D([0], [0], marker='.', color='black', \n",
    "                          label= 'Sunset time: {}'.format(set_time),\n",
    "                          markersize=markersize, linewidth=0),]    \n",
    "\n",
    "    l = ax.legend(handles=legend_elements, bbox_to_anchor=(0.0, 0.0), frameon=True, ncol=1,\n",
    "                  facecolor = '#FFFFFF', framealpha = 0.4,\n",
    "                  loc='lower left',  fontsize = fontsize, prop={'family':'monospace', 'size':fontsize})\n",
    "\n",
    "    for text in l.get_texts():\n",
    "        text.set_color(\"black\")\n",
    "    \n",
    "    fig.savefig(\"map_{}.svg\".format(month), bbox_inches = 'tight', \n",
    "            format = \"svg\", facecolor = fig.get_facecolor(), \n",
    "            transparent = True)"
   ]
  },
  {
   "cell_type": "markdown",
   "metadata": {},
   "source": [
    "___"
   ]
  },
  {
   "cell_type": "markdown",
   "metadata": {},
   "source": [
    "# Generalized case"
   ]
  },
  {
   "cell_type": "code",
   "execution_count": null,
   "metadata": {},
   "outputs": [],
   "source": [
    "month = 7\n",
    "city = 'Amsterdam'"
   ]
  },
  {
   "cell_type": "code",
   "execution_count": null,
   "metadata": {},
   "outputs": [],
   "source": [
    "from astral.geocoder import database, lookup\n",
    "l = lookup(city, database())"
   ]
  },
  {
   "cell_type": "code",
   "execution_count": null,
   "metadata": {},
   "outputs": [],
   "source": [
    "date_str = str(datetime.now().year) + '-' + str(month) + '-' + '15' # set date (based on month)\n",
    "date_obj = datetime.strptime(date_str, '%Y-%m-%d') # convert to datetime object\n",
    "s = sun(l.observer, date=date_obj) # get dictionary with solar time data\n",
    "\n",
    "rise_time_obj = s['sunrise'].astimezone(tz = pytz.timezone(l.timezone))\n",
    "set_time_obj = s['sunset'].astimezone(tz = pytz.timezone(l.timezone))\n",
    "\n",
    "rise_time = datetime.strftime(rise_time_obj, '%H:%M:%S')\n",
    "set_time = datetime.strftime(set_time_obj, '%H:%M:%S')\n",
    "\n",
    "rise_angle = azimuth(l.observer, rise_time_obj)\n",
    "set_angle = azimuth(l.observer, set_time_obj)\n",
    "\n",
    "month_name = calendar.month_name[month]"
   ]
  },
  {
   "cell_type": "code",
   "execution_count": null,
   "metadata": {},
   "outputs": [],
   "source": [
    "G = ox.geo_utils.add_edge_bearings(\n",
    "    ox.graph_from_point((l.latitude, l.longitude), distance=2000, network_type='drive')\n",
    ")\n",
    "\n",
    "ox.plot_graph(G)"
   ]
  },
  {
   "cell_type": "code",
   "execution_count": null,
   "metadata": {},
   "outputs": [],
   "source": [
    "u = []\n",
    "v = []\n",
    "data = []\n",
    "for uu, vv, ddata in G.edges(data=True):\n",
    "    u.append(uu)\n",
    "    v.append(vv)\n",
    "    data.append(ddata)\n",
    "\n",
    "for item in data:\n",
    "    if 'bearing' in item.keys():\n",
    "        item['bearing'] = float(item['bearing'])"
   ]
  },
  {
   "cell_type": "code",
   "execution_count": null,
   "metadata": {},
   "outputs": [],
   "source": [
    "colorsHEX = []\n",
    "\n",
    "for item in data:\n",
    "    if item['length'] > 10:\n",
    "        if abs(item['bearing'] - rise_angle) <= 10 or abs(item['bearing'] - rise_angle - 180) <= 10:\n",
    "            colorHEX = rise_color\n",
    "        elif abs(item['bearing'] - set_angle) <= 10 or abs(item['bearing'] - set_angle + 180) <= 10:\n",
    "            colorHEX = set_color\n",
    "        else:\n",
    "            colorHEX = no_color\n",
    "    else:\n",
    "        colorHEX = bg_color\n",
    "    colorsHEX.append(colorHEX)"
   ]
  },
  {
   "cell_type": "code",
   "execution_count": null,
   "metadata": {},
   "outputs": [],
   "source": [
    "widths = []\n",
    "\n",
    "for item in data:\n",
    "    if 'primary' or 'primary_link' in item['highway']:\n",
    "        width = 5\n",
    "    elif 'secondary' or 'secondary_link' in item['highway']:\n",
    "        width = 3\n",
    "    elif 'tertiary' or 'tertiary_link' in item['highway']:\n",
    "        width = 2\n",
    "    elif 'residential' or 'living_street' in item['highway']:\n",
    "        width = 1\n",
    "    else:\n",
    "        width = 0\n",
    "    widths.append(width)"
   ]
  },
  {
   "cell_type": "code",
   "execution_count": null,
   "metadata": {},
   "outputs": [],
   "source": [
    "# Map center\n",
    "\n",
    "latitude = l.latitude\n",
    "longitude = l.longitude\n",
    "\n",
    "# Plotting\n",
    "\n",
    "fig, ax = ox.plot_graph(G, node_size=0, margin = 0.035,\n",
    "                        fig_height=50, fig_width=50, bgcolor = bg_color,\n",
    "                        save = False, edge_color=colorsHEX,\n",
    "                        edge_linewidth=widths, use_geom = True)"
   ]
  },
  {
   "cell_type": "markdown",
   "metadata": {},
   "source": [
    "## Acknowledgements"
   ]
  },
  {
   "cell_type": "markdown",
   "metadata": {},
   "source": [
    "- Boeing, G. 2017. *“OSMnx: New Methods for Acquiring, Constructing, Analyzing, and Visualizing Complex Street Networks.”* Computers, Environment and Urban Systems. 65, 126-139. [doi:10.1016/j.compenvurbsys.2017.05.004](https://doi.org/10.1016/j.compenvurbsys.2017.05.004)\n",
    "- Ceballos, Frank. *“Making Artistic Maps with Python.”* Towards Data Science. Last modified October 2, 2019. [towardsdatascience.com/making-artistic-maps-with-python-9d37f5ea8af0](https://towardsdatascience.com/making-artistic-maps-with-python-9d37f5ea8af0)."
   ]
  }
 ],
 "metadata": {
  "kernelspec": {
   "display_name": "Python 3",
   "language": "python",
   "name": "python3"
  },
  "language_info": {
   "codemirror_mode": {
    "name": "ipython",
    "version": 3
   },
   "file_extension": ".py",
   "mimetype": "text/x-python",
   "name": "python",
   "nbconvert_exporter": "python",
   "pygments_lexer": "ipython3",
   "version": "3.7.6"
  }
 },
 "nbformat": 4,
 "nbformat_minor": 2
}
